{
 "cells": [
  {
   "cell_type": "markdown",
   "id": "1f2e6db8-de66-463e-8c20-672c0ebd52ff",
   "metadata": {},
   "source": [
    "# Chapter 2 Exercises"
   ]
  },
  {
   "cell_type": "markdown",
   "id": "8b12f725-cf27-439f-92a7-9c09234010d9",
   "metadata": {},
   "source": [
    "## 1.) - For each of parts (a) through (d), indicate whether we would generally expect the performance of a flexible statistical learning method to be better or worse than an inflexible method. Justify your answer."
   ]
  },
  {
   "cell_type": "markdown",
   "id": "96aac68c-2129-4773-9257-16247228e963",
   "metadata": {},
   "source": [
    "#### a.) The sample size *n* is extremely large, and the number of predictors *p* is small"
   ]
  },
  {
   "cell_type": "markdown",
   "id": "0e51cbb9-b75b-42c3-9269-8e1d662f579e",
   "metadata": {},
   "source": [
    "**FIRST/INCORRECT ANSWER**: An inflexible method would generally be better here. With such a large number of samples, we don't want our model reacting heavily to changes in a small amount of samples, since it is more likely to be true that a small amount of sample changes will not have a significant impact on the overall pattern of the relationship between the predictors and the outcomes.\n",
    "\n",
    "**Why was this answer incorrect?**: The statement that \"we don't want our model reacting heavily to changes in a small amount of samples\" is true, but \"small amount of samples\" is relative to the sample size. A flexible model of 10 observations may respond too much to changes in 5 samples, but a model with 1000 observations will not be affected much by 5 changes. My mistake was interpreting \"flexible\" to mean \"responding in an extreme way to a small amount of changes\", but this leaves out the context of the model. The correct version of that statment is a \"model that is **too** flexible responds in an extreme way to changes in an amount of observations that is **small with respect to the number of total samples**\". Any model can be made to be overly-flexible with respect to its observations, but the attribute of flexibility doesn't automatically imply over-fitting."
   ]
  },
  {
   "cell_type": "markdown",
   "id": "95063db1-6bf0-4c51-9061-a5ddf69eb521",
   "metadata": {},
   "source": [
    "**CORRECT ANSWER**: A flexible method would be better suited to this situation than an inflexible method. Since there are lots of observations, the risk of overfitting is minimized, and we want to be able to capture the potentially complex patterns that can arise out of a large number of observations."
   ]
  },
  {
   "cell_type": "markdown",
   "id": "b7e363eb-1a4d-4ae6-a4f5-136ad16cb474",
   "metadata": {},
   "source": [
    "#### b.) The number of predictors *p* is extremely large, and the number of observations *n* is small."
   ]
  },
  {
   "cell_type": "markdown",
   "id": "0e421c62-133d-4e67-94fd-6df518708252",
   "metadata": {},
   "source": [
    "An inflexible method would be better than a flexible method here. With a small number of observations, we run the risk of overfitting much earlier on the flexibility scale, and a small number of observations most likely won't produce extremely complicated patterns."
   ]
  },
  {
   "cell_type": "markdown",
   "id": "8f306f15-3f2f-45cd-bfb8-cde00caf4216",
   "metadata": {},
   "source": [
    "#### c.) The relationship between the predictors and response is highly non-linear"
   ]
  },
  {
   "cell_type": "markdown",
   "id": "d435c324-745d-412b-9c66-6ed5d1cda817",
   "metadata": {},
   "source": [
    "This is a situation clearly suited to a flexible method as opposed to an inflexible method. With a highly non-linear relationship, we need flexibility in order to capture that pattern."
   ]
  },
  {
   "cell_type": "markdown",
   "id": "d188e4b8-120e-4a0e-a13c-c72dc6e82851",
   "metadata": {},
   "source": [
    "#### d.) The variance of the error terms, i.e. $σ^{2} = Var(ε)$, is extremely high."
   ]
  },
  {
   "cell_type": "markdown",
   "id": "898fc949-6088-4635-be88-a585f8d6ceee",
   "metadata": {},
   "source": [
    "An inflexible model would be better here. If different training data sets have a large impact on predictions (the definition of high variance), we need to account for then noise in the dataset with a less flexible, high-bias method."
   ]
  },
  {
   "cell_type": "markdown",
   "id": "8d26b591-1708-4760-9f74-9fe3b8db3993",
   "metadata": {},
   "source": [
    "# 2.) Explain whether each scenario is a classifcation or regression problem, and indicate whether we are most interested in inference or prediction. Finally, provide n and p."
   ]
  },
  {
   "cell_type": "markdown",
   "id": "5853e47d-c5ea-4e22-a32d-13d4550fb426",
   "metadata": {},
   "source": [
    "#### a.)  We collect a set of data on the top 500 firms in the US. For each firm we record profit, number of employees, industry and the CEO salary. We are interested in understanding which factors afect CEO salary."
   ]
  },
  {
   "cell_type": "markdown",
   "id": "342a8ec9-1a54-4109-b55c-2d21dc1145c1",
   "metadata": {},
   "source": [
    "This is a regression problem. We would create a model where the profit, number of employees, and industry are used to predict the CEO salary.\n",
    "`n = 500` and `p = 3`"
   ]
  },
  {
   "cell_type": "markdown",
   "id": "51959b13-52ec-4fb2-8f72-1a287af40f06",
   "metadata": {},
   "source": [
    "#### b.) We are considering launching a new product and wish to know whether it will be a *success* or a *failure*. We collect data on 20 similar products that were previously launched. For each product we have recorded whether it was a success or a failure, price charged for the product, marketing budget, competition price, and ten other variables."
   ]
  },
  {
   "cell_type": "markdown",
   "id": "8ed834b1-bdf5-476b-b250-48c5fdcf6bf5",
   "metadata": {},
   "source": [
    "This is a classification problem, with *success* and *failure* buckets. Here we have `n = 20` and `p = 13`."
   ]
  },
  {
   "cell_type": "markdown",
   "id": "ad6ead4f-a699-49ed-863f-8976790b8dbb",
   "metadata": {},
   "source": [
    "#### c.)  We are interested in predicting the % change in the USD/Euro exchange rate in relation to the weekly changes in the world stock markets. Hence we collect weekly data for all of 2012. For each week we record the % change in the USD/Euro, the % change in the US market, the % change in the British market, and the % change in the German market."
   ]
  },
  {
   "cell_type": "markdown",
   "id": "f7ed6670-1702-49b1-8ee6-5ce5a7b0a646",
   "metadata": {},
   "source": [
    "This is a regression problem, with the prediction being the percent change in the USD/Euro exchange rate. Here `n = 52` (number of weeks in a year) and `p = 3`."
   ]
  },
  {
   "cell_type": "markdown",
   "id": "eebecba7-c631-4d71-9a90-85bb18df9c31",
   "metadata": {},
   "source": [
    "# 3.) We now revisit the bias-variance decomposition."
   ]
  },
  {
   "cell_type": "markdown",
   "id": "b182742c-c4b9-417d-bf70-d587473156d9",
   "metadata": {},
   "source": [
    "#### a.) Provide a sketch of typical (squared) bias, variance, training error, test error, and Bayes (or irreducible) error curves, on a single plot, as we go from less flexible statistical learning methods towards more flexible approaches. The x-axis should represent the amount of flexibility in the method, and the y-axis should represent the values for each curve. There should be five curves. Make sure to label each one."
   ]
  },
  {
   "cell_type": "markdown",
   "id": "dddee2c6-dd7a-4f18-9cc1-49cf589fa7f1",
   "metadata": {},
   "source": [
    "Sketch in LiquidText."
   ]
  },
  {
   "cell_type": "markdown",
   "id": "f49136ad-164a-4334-9bbe-e3f830783169",
   "metadata": {},
   "source": [
    "#### b.) Explain why each of the five curves has the shape displayed in part (a)."
   ]
  },
  {
   "cell_type": "markdown",
   "id": "850a3655-51c6-4323-ba5d-2d1c8cf5e459",
   "metadata": {},
   "source": [
    "- Bias - bias has an inverse relationship to flexibility, so when flexibility is low, bias will be high, and will decrease as the flexibility increases, rapidly at first and then more gradually.\n",
    "- Variance - variance has the opposite behavior from bias. It will start low, but as method flexibility increases, variance will increase along with it.\n",
    "- Training error - the training area will always decrease as flexibility increases.\n",
    "- Test error - The training area will have a U-shape, at first decreasing as flexibility increases, but then increasing again as too much flexibility starts to over-fit the data..\n",
    "- Bayes error - This is a constant (though unknown), so it is represented as a horizontal line whose value is just below the minimum value of the test error"
   ]
  },
  {
   "cell_type": "code",
   "execution_count": null,
   "id": "1ecfbbc6-497a-4475-8ecf-34901eb16e56",
   "metadata": {},
   "outputs": [],
   "source": []
  }
 ],
 "metadata": {
  "kernelspec": {
   "display_name": "Python 3 (ipykernel)",
   "language": "python",
   "name": "python3"
  },
  "language_info": {
   "codemirror_mode": {
    "name": "ipython",
    "version": 3
   },
   "file_extension": ".py",
   "mimetype": "text/x-python",
   "name": "python",
   "nbconvert_exporter": "python",
   "pygments_lexer": "ipython3",
   "version": "3.11.0"
  }
 },
 "nbformat": 4,
 "nbformat_minor": 5
}
